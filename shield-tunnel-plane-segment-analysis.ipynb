{
 "cells": [
  {
   "cell_type": "code",
   "execution_count": 1,
   "metadata": {},
   "outputs": [],
   "source": [
    "import os\n",
    "import pandas as pd\n",
    "import numpy as np\n",
    "import matplotlib.pyplot as plt\n",
    "import matplotlib.patches as patches  # draw rectangle\n",
    "from matplotlib.ticker import MultipleLocator as ML  # draw minor ticks\n",
    "from scipy.interpolate import griddata\n",
    "from scipy.interpolate import LinearNDInterpolator as LNDI\n",
    "from scipy.interpolate import NearestNDInterpolator as NNDI"
   ]
  },
  {
   "cell_type": "code",
   "execution_count": 2,
   "metadata": {},
   "outputs": [],
   "source": [
    "pd.options.display.max_colwidth = 100\n",
    "#%matplotlib inline\n",
    "#%matplotlib notebook"
   ]
  },
  {
   "cell_type": "markdown",
   "metadata": {},
   "source": [
    "### Load Dataset"
   ]
  },
  {
   "cell_type": "code",
   "execution_count": 3,
   "metadata": {},
   "outputs": [],
   "source": [
    "cloud_filepath = r\"C:\\home\\workspace\\20210201_清水建設_シールドトンネル_2021-01-AHランプ\\20210108shimizuGRTC-A(No23_27)_cylinder_origin_plane_connect_planemodel.csv\"\n",
    "coeffs_filepath = r\"C:\\home\\workspace\\20210201_清水建設_シールドトンネル_2021-01-AHランプ\\20210108shimizuGRTC-A(No23_27)_cylinder_origin_plane_connect_planemodel_coeffs.csv\"\n",
    "#cloud_filepath = r\"C:\\home\\workspace\\20210201_清水建設_シールドトンネル_2021-01-AHランプ\\20210108shimizuP50-A(No23_27)_subsample0.0012_cylinder_origin_plane_connect_planemodel.csv\"\n",
    "#coeffs_filepath = r\"C:\\home\\workspace\\20210201_清水建設_シールドトンネル_2021-01-AHランプ\\20210108shimizuP50-A(No23_27)_subsample0.0012_cylinder_origin_plane_connect_planemodel_coeffs.csv\"\n",
    "#cloud_filepath = r\"C:\\home\\workspace\\20210201_清水建設_シールドトンネル_2021-01-AHランプ\\20210108shimizuP50-A(No23_27)_subsample0.0012_cylinder_origin_plane_decimate0.9_connect_planemodel.csv\"\n",
    "#coeffs_filepath = r\"C:\\home\\workspace\\20210201_清水建設_シールドトンネル_2021-01-AHランプ\\20210108shimizuP50-A(No23_27)_subsample0.0012_cylinder_origin_plane_decimate0.9_connect_planemodel_coeffs.csv\"\n",
    "#cloud_filepath = r\"C:\\home\\develop\\pointcloud_experiment\\out\\build\\x64-Release\\plane_segment_sample_decimate0.9_clean.csv\"\n",
    "#coeffs_filepath = r\"C:\\home\\develop\\pointcloud_experiment\\out\\build\\x64-Release\\plane_segment_sample_decimate0.9_planecoeffs.csv\""
   ]
  },
  {
   "cell_type": "code",
   "execution_count": 4,
   "metadata": {},
   "outputs": [
    {
     "name": "stdout",
     "output_type": "stream",
     "text": [
      "C:\\home\\workspace\\20210201_清水建設_シールドトンネル_2021-01-AHランプ\n",
      "20210108shimizuGRTC-A(No23_27)_cylinder_origin_plane_connect_planemodel.csv\n"
     ]
    }
   ],
   "source": [
    "save_dirpath = os.path.split(cloud_filepath)[0]\n",
    "cloud_filename = os.path.split(cloud_filepath)[1]\n",
    "print(save_dirpath)\n",
    "print(cloud_filename)"
   ]
  },
  {
   "cell_type": "code",
   "execution_count": 5,
   "metadata": {},
   "outputs": [
    {
     "data": {
      "text/html": [
       "<div>\n",
       "<style scoped>\n",
       "    .dataframe tbody tr th:only-of-type {\n",
       "        vertical-align: middle;\n",
       "    }\n",
       "\n",
       "    .dataframe tbody tr th {\n",
       "        vertical-align: top;\n",
       "    }\n",
       "\n",
       "    .dataframe thead th {\n",
       "        text-align: right;\n",
       "    }\n",
       "</style>\n",
       "<table border=\"1\" class=\"dataframe\">\n",
       "  <thead>\n",
       "    <tr style=\"text-align: right;\">\n",
       "      <th></th>\n",
       "      <th>x</th>\n",
       "      <th>y</th>\n",
       "      <th>z</th>\n",
       "      <th>region_id</th>\n",
       "    </tr>\n",
       "  </thead>\n",
       "  <tbody>\n",
       "    <tr>\n",
       "      <th>count</th>\n",
       "      <td>4.043901e+07</td>\n",
       "      <td>4.043901e+07</td>\n",
       "      <td>4.043901e+07</td>\n",
       "      <td>4.043901e+07</td>\n",
       "    </tr>\n",
       "    <tr>\n",
       "      <th>mean</th>\n",
       "      <td>1.539272e+00</td>\n",
       "      <td>1.589745e+01</td>\n",
       "      <td>-2.055561e-04</td>\n",
       "      <td>1.490494e+01</td>\n",
       "    </tr>\n",
       "    <tr>\n",
       "      <th>std</th>\n",
       "      <td>1.307179e+00</td>\n",
       "      <td>6.937674e+00</td>\n",
       "      <td>2.232165e-03</td>\n",
       "      <td>1.018781e+01</td>\n",
       "    </tr>\n",
       "    <tr>\n",
       "      <th>min</th>\n",
       "      <td>-1.866932e+00</td>\n",
       "      <td>1.715246e+00</td>\n",
       "      <td>-6.499767e-03</td>\n",
       "      <td>0.000000e+00</td>\n",
       "    </tr>\n",
       "    <tr>\n",
       "      <th>25%</th>\n",
       "      <td>6.674569e-01</td>\n",
       "      <td>1.192857e+01</td>\n",
       "      <td>-1.769066e-03</td>\n",
       "      <td>4.000000e+00</td>\n",
       "    </tr>\n",
       "    <tr>\n",
       "      <th>50%</th>\n",
       "      <td>1.824746e+00</td>\n",
       "      <td>1.619602e+01</td>\n",
       "      <td>-1.416206e-04</td>\n",
       "      <td>1.500000e+01</td>\n",
       "    </tr>\n",
       "    <tr>\n",
       "      <th>75%</th>\n",
       "      <td>2.682429e+00</td>\n",
       "      <td>1.924436e+01</td>\n",
       "      <td>1.374722e-03</td>\n",
       "      <td>2.400000e+01</td>\n",
       "    </tr>\n",
       "    <tr>\n",
       "      <th>max</th>\n",
       "      <td>5.034000e+00</td>\n",
       "      <td>3.079741e+01</td>\n",
       "      <td>8.509636e-03</td>\n",
       "      <td>3.200000e+01</td>\n",
       "    </tr>\n",
       "  </tbody>\n",
       "</table>\n",
       "</div>"
      ],
      "text/plain": [
       "                  x             y             z     region_id\n",
       "count  4.043901e+07  4.043901e+07  4.043901e+07  4.043901e+07\n",
       "mean   1.539272e+00  1.589745e+01 -2.055561e-04  1.490494e+01\n",
       "std    1.307179e+00  6.937674e+00  2.232165e-03  1.018781e+01\n",
       "min   -1.866932e+00  1.715246e+00 -6.499767e-03  0.000000e+00\n",
       "25%    6.674569e-01  1.192857e+01 -1.769066e-03  4.000000e+00\n",
       "50%    1.824746e+00  1.619602e+01 -1.416206e-04  1.500000e+01\n",
       "75%    2.682429e+00  1.924436e+01  1.374722e-03  2.400000e+01\n",
       "max    5.034000e+00  3.079741e+01  8.509636e-03  3.200000e+01"
      ]
     },
     "execution_count": 5,
     "metadata": {},
     "output_type": "execute_result"
    }
   ],
   "source": [
    "# load pointcloud: x,y,z,region_id \n",
    "df = pd.read_csv(cloud_filepath, sep='\\t')\n",
    "df.describe()"
   ]
  },
  {
   "cell_type": "code",
   "execution_count": 6,
   "metadata": {},
   "outputs": [
    {
     "data": {
      "text/html": [
       "<div>\n",
       "<style scoped>\n",
       "    .dataframe tbody tr th:only-of-type {\n",
       "        vertical-align: middle;\n",
       "    }\n",
       "\n",
       "    .dataframe tbody tr th {\n",
       "        vertical-align: top;\n",
       "    }\n",
       "\n",
       "    .dataframe thead th {\n",
       "        text-align: right;\n",
       "    }\n",
       "</style>\n",
       "<table border=\"1\" class=\"dataframe\">\n",
       "  <thead>\n",
       "    <tr style=\"text-align: right;\">\n",
       "      <th></th>\n",
       "      <th>region_id</th>\n",
       "      <th>a</th>\n",
       "      <th>b</th>\n",
       "      <th>c</th>\n",
       "      <th>d</th>\n",
       "    </tr>\n",
       "  </thead>\n",
       "  <tbody>\n",
       "    <tr>\n",
       "      <th>0</th>\n",
       "      <td>0</td>\n",
       "      <td>-0.000204</td>\n",
       "      <td>-0.000115</td>\n",
       "      <td>1.000000</td>\n",
       "      <td>0.001732</td>\n",
       "    </tr>\n",
       "    <tr>\n",
       "      <th>1</th>\n",
       "      <td>1</td>\n",
       "      <td>-0.002427</td>\n",
       "      <td>0.000962</td>\n",
       "      <td>0.999997</td>\n",
       "      <td>-0.022384</td>\n",
       "    </tr>\n",
       "    <tr>\n",
       "      <th>2</th>\n",
       "      <td>2</td>\n",
       "      <td>-0.001263</td>\n",
       "      <td>-0.000042</td>\n",
       "      <td>0.999999</td>\n",
       "      <td>-0.000300</td>\n",
       "    </tr>\n",
       "    <tr>\n",
       "      <th>3</th>\n",
       "      <td>3</td>\n",
       "      <td>0.000183</td>\n",
       "      <td>0.000113</td>\n",
       "      <td>1.000000</td>\n",
       "      <td>-0.004014</td>\n",
       "    </tr>\n",
       "    <tr>\n",
       "      <th>4</th>\n",
       "      <td>4</td>\n",
       "      <td>-0.000520</td>\n",
       "      <td>0.000008</td>\n",
       "      <td>1.000000</td>\n",
       "      <td>0.002209</td>\n",
       "    </tr>\n",
       "  </tbody>\n",
       "</table>\n",
       "</div>"
      ],
      "text/plain": [
       "   region_id         a         b         c         d\n",
       "0          0 -0.000204 -0.000115  1.000000  0.001732\n",
       "1          1 -0.002427  0.000962  0.999997 -0.022384\n",
       "2          2 -0.001263 -0.000042  0.999999 -0.000300\n",
       "3          3  0.000183  0.000113  1.000000 -0.004014\n",
       "4          4 -0.000520  0.000008  1.000000  0.002209"
      ]
     },
     "execution_count": 6,
     "metadata": {},
     "output_type": "execute_result"
    }
   ],
   "source": [
    "# load estimated plane model coeffs: region_id,a,b,c,d \n",
    "df_coeffs = pd.read_csv(coeffs_filepath, sep=\"\\t\")\n",
    "df_coeffs.head()"
   ]
  },
  {
   "cell_type": "markdown",
   "metadata": {},
   "source": [
    "### Selection"
   ]
  },
  {
   "cell_type": "code",
   "execution_count": 7,
   "metadata": {},
   "outputs": [],
   "source": [
    "region_id_selection = [23, 6, 26, 8, 27, 24]\n",
    "#region_id_selection = [16, 38, 31, 1, 14]  # 20210108shimizuP50-A(No23_27)_subsample0.0012_cylinder_origin_plane_connect_planemodel.csv\n",
    "#region_id_selection = [13, 29, 37, 9, 64]  # 20210108shimizuP50-A(No23_27)_subsample0.0012_cylinder_origin_plane_decimate0.9_connect_planemodel\n",
    "df_ = pd.DataFrame()\n",
    "for region_id in region_id_selection:\n",
    "    df_ = pd.concat([df_, df[df.region_id == region_id]])\n",
    "df = df_"
   ]
  },
  {
   "cell_type": "markdown",
   "metadata": {},
   "source": [
    "### Region ID List"
   ]
  },
  {
   "cell_type": "code",
   "execution_count": 8,
   "metadata": {},
   "outputs": [
    {
     "name": "stdout",
     "output_type": "stream",
     "text": [
      "index: 0 region_id: 6.0\n",
      "index: 1 region_id: 8.0\n",
      "index: 2 region_id: 23.0\n",
      "index: 3 region_id: 24.0\n",
      "index: 4 region_id: 26.0\n",
      "index: 5 region_id: 27.0\n"
     ]
    }
   ],
   "source": [
    "# extract index and retion_id\n",
    "region_id_list = df.region_id.drop_duplicates().values  # must be equal with df_coeffs.region_id.values\n",
    "region_id_list.sort()\n",
    "for i in range(len(region_id_list)):\n",
    "    print('index: %s region_id: %s' % (i, region_id_list[i]))\n",
    "if len(region_id_list) != len(df.region_id.drop_duplicates()):\n",
    "    print('Error: df and df_coeffs is not matched')"
   ]
  },
  {
   "cell_type": "markdown",
   "metadata": {},
   "source": [
    "### Grid definition"
   ]
  },
  {
   "cell_type": "code",
   "execution_count": 9,
   "metadata": {},
   "outputs": [
    {
     "name": "stdout",
     "output_type": "stream",
     "text": [
      "data size: (2987, 6764)\n"
     ]
    }
   ],
   "source": [
    "dx = dy = 0.001\n",
    "nx = int((np.max(df.x) - np.min(df.x)) / dx)\n",
    "ny = int((np.max(df.y) - np.min(df.y)) / dy)\n",
    "print('data size: (%s, %s)' % (nx, ny))\n",
    "x = np.linspace(np.min(df.x), np.max(df.x), nx)\n",
    "y = np.linspace(np.min(df.y), np.max(df.y), ny)\n",
    "gx, gy = np.meshgrid(x, y)"
   ]
  },
  {
   "cell_type": "markdown",
   "metadata": {},
   "source": [
    "### Plot settings"
   ]
  },
  {
   "cell_type": "code",
   "execution_count": 10,
   "metadata": {},
   "outputs": [],
   "source": [
    "# common plot settings\n",
    "def set_plot_label():\n",
    "    plt.ylim(np.min(x), np.max(x))\n",
    "    plt.xlim(np.min(y), np.max(y))\n",
    "    plt.ylabel('Tunnel depth [m]')\n",
    "    plt.xlabel('R*theta [m]')\n",
    "    plt.axes().xaxis.set_minor_locator(ML(0.1))  # todo: this makes warning\n",
    "    plt.axes().yaxis.set_minor_locator(ML(0.1))\n",
    "\n",
    "def save_plot(filepath):\n",
    "    plt.savefig(filepath, bbox_inches=\"tight\", pad_inches=0.1, dpi=300, facecolor='white')\n",
    "    \n",
    "# max(x)-->min(x) because always plot is transposed\n",
    "extent_transposed = [np.min(y), np.max(y), np.max(x), np.min(x)]"
   ]
  },
  {
   "cell_type": "code",
   "execution_count": 11,
   "metadata": {},
   "outputs": [],
   "source": [
    "def gz_measured(region_id):\n",
    "    x_arr = df[df.region_id == region_id].x\n",
    "    y_arr = df[df.region_id == region_id].y\n",
    "    z_arr = df[df.region_id == region_id].z\n",
    "    interp = LNDI(list(zip(x_arr,y_arr)), z_arr)  # LNDI fill np.nan outside of cenvex hull\n",
    "    return interp(gx, gy)  # return grid z"
   ]
  },
  {
   "cell_type": "code",
   "execution_count": 12,
   "metadata": {},
   "outputs": [],
   "source": [
    "gz_measured_list = []\n",
    "for region_id in region_id_list:\n",
    "    gz_measured_list.append(gz_measured(region_id))"
   ]
  },
  {
   "cell_type": "code",
   "execution_count": 13,
   "metadata": {
    "scrolled": false
   },
   "outputs": [
    {
     "name": "stderr",
     "output_type": "stream",
     "text": [
      "<ipython-input-10-44a23a5c59df>:7: MatplotlibDeprecationWarning: Adding an axes using the same arguments as a previous axes currently reuses the earlier instance.  In a future version, a new instance will always be created and returned.  Meanwhile, this warning can be suppressed, and the future behavior ensured, by passing a unique label to each axes instance.\n",
      "  plt.axes().xaxis.set_minor_locator(ML(0.1))  # todo: this makes warning\n",
      "<ipython-input-10-44a23a5c59df>:8: MatplotlibDeprecationWarning: Adding an axes using the same arguments as a previous axes currently reuses the earlier instance.  In a future version, a new instance will always be created and returned.  Meanwhile, this warning can be suppressed, and the future behavior ensured, by passing a unique label to each axes instance.\n",
      "  plt.axes().yaxis.set_minor_locator(ML(0.1))\n"
     ]
    },
    {
     "data": {
      "image/png": "[encoded data removed]",
      "text/plain": [
       "<Figure size 432x288 with 2 Axes>"
      ]
     },
     "metadata": {
      "needs_background": "light"
     },
     "output_type": "display_data"
    }
   ],
   "source": [
    "# visualize height ramp\n",
    "fig_title = 'Height Ramp'\n",
    "for gz in gz_measured_list:\n",
    "    plt.imshow(-gz.transpose(), cmap='rainbow', extent=extent_transposed, interpolation='none')\n",
    "cbar = plt.colorbar(shrink=0.5)  # orientation='horizontal'\n",
    "cbar.set_label('Flatness [m]')\n",
    "set_plot_label()\n",
    "plt.title(fig_title)\n",
    "save_plot(os.path.join(save_dirpath, cloud_filename + '_' + fig_title + '.png' ))\n",
    "plt.show()"
   ]
  },
  {
   "cell_type": "markdown",
   "metadata": {},
   "source": [
    "### Region mask"
   ]
  },
  {
   "cell_type": "code",
   "execution_count": 14,
   "metadata": {},
   "outputs": [],
   "source": [
    "# create region mask\n",
    "# true: inside region  false: outside region\n",
    "region_mask_list = []\n",
    "for gz in gz_measured_list:\n",
    "    region_mask_list.append(~np.isnan(gz))\n",
    "all_region_mask = np.zeros((ny, nx), dtype=bool)  # all false array\n",
    "for mask in region_mask_list:\n",
    "    all_region_mask = all_region_mask | mask"
   ]
  },
  {
   "cell_type": "code",
   "execution_count": 15,
   "metadata": {},
   "outputs": [
    {
     "name": "stderr",
     "output_type": "stream",
     "text": [
      "<ipython-input-10-44a23a5c59df>:7: MatplotlibDeprecationWarning: Adding an axes using the same arguments as a previous axes currently reuses the earlier instance.  In a future version, a new instance will always be created and returned.  Meanwhile, this warning can be suppressed, and the future behavior ensured, by passing a unique label to each axes instance.\n",
      "  plt.axes().xaxis.set_minor_locator(ML(0.1))  # todo: this makes warning\n",
      "<ipython-input-10-44a23a5c59df>:8: MatplotlibDeprecationWarning: Adding an axes using the same arguments as a previous axes currently reuses the earlier instance.  In a future version, a new instance will always be created and returned.  Meanwhile, this warning can be suppressed, and the future behavior ensured, by passing a unique label to each axes instance.\n",
      "  plt.axes().yaxis.set_minor_locator(ML(0.1))\n"
     ]
    },
    {
     "data": {
      "image/png": "[encoded data removed]",
      "text/plain": [
       "<Figure size 432x288 with 2 Axes>"
      ]
     },
     "metadata": {
      "needs_background": "light"
     },
     "output_type": "display_data"
    }
   ],
   "source": [
    "# visualize gap between regions\n",
    "fig_title = 'Region Mask'\n",
    "plt.imshow(~all_region_mask.transpose(), cmap='gray', extent=extent_transposed, vmin=0, vmax=1, interpolation='none')\n",
    "cbar = plt.colorbar(shrink=0.5)  # orientation='horizontal'\n",
    "cbar.set_label('0:Segment 1:Gap')\n",
    "set_plot_label()\n",
    "plt.title(fig_title)\n",
    "save_plot(os.path.join(save_dirpath, cloud_filename + '_' + fig_title + '.png' ))\n",
    "plt.show()"
   ]
  },
  {
   "cell_type": "markdown",
   "metadata": {},
   "source": [
    "### Plane model reconstruction"
   ]
  },
  {
   "cell_type": "code",
   "execution_count": 16,
   "metadata": {},
   "outputs": [],
   "source": [
    "def plane_coeffs(region_id):\n",
    "    coeffs = df_coeffs[df_coeffs.region_id == region_id].values[0]  # df: region_id,a,b,c,d dataset\n",
    "    return coeffs[1], coeffs[2], coeffs[3], coeffs[4]  # a, b, c, d in plane eq.\n",
    "\n",
    "def z_model(x, y, *coeffs):\n",
    "    a = coeffs[0][0]\n",
    "    b = coeffs[0][1]\n",
    "    c = coeffs[0][2]\n",
    "    d = coeffs[0][3]\n",
    "    return -(d + a*x + b*y) / c\n",
    "\n",
    "def gz_model(region_id):\n",
    "    coeffs = plane_coeffs(region_id)\n",
    "    return z_model(gx, gy, coeffs)"
   ]
  },
  {
   "cell_type": "code",
   "execution_count": 17,
   "metadata": {},
   "outputs": [],
   "source": [
    "gz_model_list = []\n",
    "for i, region_id in enumerate(region_id_list):\n",
    "    gz = gz_model(region_id)\n",
    "    mask = region_mask_list[i]\n",
    "    gz_masked = np.ma.masked_array(gz, ~mask, fill_value=np.nan)  # fill nan at outside region\n",
    "    gz_model_list.append(gz_masked.filled())"
   ]
  },
  {
   "cell_type": "code",
   "execution_count": 18,
   "metadata": {},
   "outputs": [
    {
     "name": "stderr",
     "output_type": "stream",
     "text": [
      "<ipython-input-10-44a23a5c59df>:7: MatplotlibDeprecationWarning: Adding an axes using the same arguments as a previous axes currently reuses the earlier instance.  In a future version, a new instance will always be created and returned.  Meanwhile, this warning can be suppressed, and the future behavior ensured, by passing a unique label to each axes instance.\n",
      "  plt.axes().xaxis.set_minor_locator(ML(0.1))  # todo: this makes warning\n",
      "<ipython-input-10-44a23a5c59df>:8: MatplotlibDeprecationWarning: Adding an axes using the same arguments as a previous axes currently reuses the earlier instance.  In a future version, a new instance will always be created and returned.  Meanwhile, this warning can be suppressed, and the future behavior ensured, by passing a unique label to each axes instance.\n",
      "  plt.axes().yaxis.set_minor_locator(ML(0.1))\n"
     ]
    },
    {
     "data": {
      "image/png": "[encoded data removed]",
      "text/plain": [
       "<Figure size 432x288 with 2 Axes>"
      ]
     },
     "metadata": {
      "needs_background": "light"
     },
     "output_type": "display_data"
    }
   ],
   "source": [
    "# visualize models\n",
    "fig_title = 'Reconstructed Model'\n",
    "for gz in gz_model_list:\n",
    "    plt.imshow(-gz.transpose(), cmap='rainbow', extent=extent_transposed, interpolation='none')\n",
    "cbar = plt.colorbar(shrink=0.5)  # orientation='horizontal'\n",
    "cbar.set_label('Flatness [m]')\n",
    "set_plot_label()\n",
    "plt.title(fig_title)\n",
    "save_plot(os.path.join(save_dirpath, cloud_filename + '_' + fig_title + '.png' ))\n",
    "plt.show()"
   ]
  },
  {
   "cell_type": "markdown",
   "metadata": {},
   "source": [
    "### Region (Shield Tunnel Segment) map"
   ]
  },
  {
   "cell_type": "code",
   "execution_count": 19,
   "metadata": {},
   "outputs": [],
   "source": [
    "gz_region_list = []\n",
    "for i, region_id in enumerate(region_id_list):\n",
    "    gz = np.zeros((ny, nx), dtype=float)  # must be float to use nan\n",
    "    gz.fill(region_id)\n",
    "    mask = region_mask_list[i]\n",
    "    gz_masked = np.ma.masked_array(gz, ~mask, fill_value=np.nan)  # fill nan at outside region\n",
    "    gz_region_list.append(gz_masked.filled())"
   ]
  },
  {
   "cell_type": "code",
   "execution_count": 20,
   "metadata": {
    "scrolled": false
   },
   "outputs": [
    {
     "name": "stderr",
     "output_type": "stream",
     "text": [
      "<ipython-input-10-44a23a5c59df>:7: MatplotlibDeprecationWarning: Adding an axes using the same arguments as a previous axes currently reuses the earlier instance.  In a future version, a new instance will always be created and returned.  Meanwhile, this warning can be suppressed, and the future behavior ensured, by passing a unique label to each axes instance.\n",
      "  plt.axes().xaxis.set_minor_locator(ML(0.1))  # todo: this makes warning\n",
      "<ipython-input-10-44a23a5c59df>:8: MatplotlibDeprecationWarning: Adding an axes using the same arguments as a previous axes currently reuses the earlier instance.  In a future version, a new instance will always be created and returned.  Meanwhile, this warning can be suppressed, and the future behavior ensured, by passing a unique label to each axes instance.\n",
      "  plt.axes().yaxis.set_minor_locator(ML(0.1))\n"
     ]
    },
    {
     "data": {
      "image/png": "[encoded data removed]",
      "text/plain": [
       "<Figure size 432x288 with 2 Axes>"
      ]
     },
     "metadata": {
      "needs_background": "light"
     },
     "output_type": "display_data"
    }
   ],
   "source": [
    "# visualize regions \n",
    "fig_title = 'Region Map'\n",
    "for gz in gz_region_list:\n",
    "    plt.imshow(gz.transpose(), cmap='Set3', extent=extent_transposed, vmin=np.min(region_id_list), vmax=np.max(region_id_list), interpolation='none')\n",
    "cbar = plt.colorbar(shrink=0.5)  # orientation='horizontal'\n",
    "cbar.set_label('Region ID (Tunnel Segment ID)')\n",
    "set_plot_label()\n",
    "plt.title(fig_title)\n",
    "save_plot(os.path.join(save_dirpath, cloud_filename + '_' + fig_title + '.png' ))\n",
    "plt.show()"
   ]
  },
  {
   "cell_type": "markdown",
   "metadata": {},
   "source": [
    "### Merge arrays"
   ]
  },
  {
   "cell_type": "code",
   "execution_count": 21,
   "metadata": {},
   "outputs": [],
   "source": [
    "# todo: refactor for speed up\n",
    "def merge_2d_array(src_arr, dst_arr):\n",
    "    if src_arr.shape != dst_arr.shape:\n",
    "        print(\"assert: source and destination array shape is not match\")\n",
    "    for j in range(src_arr.shape[0]):\n",
    "        for i in range(src_arr.shape[1]):\n",
    "            if not np.isnan(src_arr[j][i]):\n",
    "                dst_arr[j][i] = src_arr[j][i]    "
   ]
  },
  {
   "cell_type": "code",
   "execution_count": 22,
   "metadata": {},
   "outputs": [],
   "source": [
    "# merge gz height list\n",
    "gz_measured = np.zeros((ny, nx), dtype=float)\n",
    "gz_measured.fill(np.nan)\n",
    "for gz in gz_measured_list:\n",
    "    merge_2d_array(gz, gz_measured)"
   ]
  },
  {
   "cell_type": "code",
   "execution_count": null,
   "metadata": {},
   "outputs": [],
   "source": [
    "# merget gz mdoel list\n",
    "gz_model = np.zeros((ny, nx), dtype=float)\n",
    "gz_model.fill(np.nan)\n",
    "for gz in gz_model_list:\n",
    "    merge_2d_array(gz, gz_model)"
   ]
  },
  {
   "cell_type": "code",
   "execution_count": null,
   "metadata": {},
   "outputs": [],
   "source": [
    "# visualize height ramp\n",
    "fig_title = 'Height Ramp - Merged'\n",
    "plt.imshow(-gz_measured.transpose(), cmap='rainbow', extent=extent_transposed, interpolation='none')\n",
    "cbar = plt.colorbar(shrink=0.5)  # orientation='horizontal'\n",
    "cbar.set_label('Flatness [m]')\n",
    "set_plot_label()\n",
    "plt.title(fig_title)\n",
    "save_plot(os.path.join(save_dirpath, cloud_filename + '_' + fig_title + '.png' ))\n",
    "plt.show()"
   ]
  },
  {
   "cell_type": "code",
   "execution_count": null,
   "metadata": {},
   "outputs": [],
   "source": [
    "# visualize reconstructed model\n",
    "fig_title = 'Reconstructed Model - Merged'\n",
    "plt.imshow(-gz_model.transpose(), cmap='rainbow', extent=extent_transposed, interpolation='none')\n",
    "cbar = plt.colorbar(shrink=0.5)  # orientation='horizontal'\n",
    "cbar.set_label('Flatness [m]')\n",
    "set_plot_label()\n",
    "plt.title(fig_title)\n",
    "save_plot(os.path.join(save_dirpath, cloud_filename + '_' + fig_title + '.png' ))\n",
    "plt.show()"
   ]
  },
  {
   "cell_type": "code",
   "execution_count": null,
   "metadata": {},
   "outputs": [],
   "source": [
    "#save_plot(os.path.join(save_dirpath, cloud_filename + '_' + fig_title + '_up.png' ))"
   ]
  },
  {
   "cell_type": "markdown",
   "metadata": {},
   "source": [
    "### Line Profile"
   ]
  },
  {
   "cell_type": "code",
   "execution_count": null,
   "metadata": {},
   "outputs": [],
   "source": [
    "def find_index(arr, val):\n",
    "    eps = 1e-8\n",
    "    found = np.where(arr >= val - eps)[0]\n",
    "    if (len(found)):\n",
    "        return found[0]\n",
    "    else:\n",
    "        return 0"
   ]
  },
  {
   "cell_type": "code",
   "execution_count": null,
   "metadata": {},
   "outputs": [],
   "source": [
    "def find_nan_sequence(arr):\n",
    "    # return: nan pairs list\n",
    "    # exp)\n",
    "    # in:  [nan  1.  3.  4.  3. nan nan 32. 42. nan nan 10.]\n",
    "    # out: [0, 0, 5, 6, 9, 10]\n",
    "    nan_list = np.where(np.isnan(arr))[0]\n",
    "    if len(nan_list) == 0:\n",
    "        return []\n",
    "    nan_pairs = []\n",
    "    prev_val = nan_list[0]\n",
    "    for i in range(len(nan_list)):\n",
    "        if len(nan_pairs) == 0 or np.isnan(nan_list[i]):\n",
    "            nan_pairs.append(nan_list[i])\n",
    "        elif prev_val + 1 != nan_list[i]:  # nan end\n",
    "            nan_pairs.append(nan_list[i - 1])\n",
    "            nan_pairs.append(nan_list[i])\n",
    "        prev_val = nan_list[i]\n",
    "    nan_pairs.append(nan_list[-1])\n",
    "    return nan_pairs"
   ]
  },
  {
   "cell_type": "code",
   "execution_count": null,
   "metadata": {},
   "outputs": [],
   "source": [
    "def find_gaps(fixed_position, fixed_axis='y'):\n",
    "    if fixed_axis == 'y':\n",
    "        fixed_index = find_index(y, fixed_position)\n",
    "        v = x\n",
    "        z = -gz_model[fixed_index,:]\n",
    "    elif fixed_axis == 'x':\n",
    "        fixed_index = find_index(x, fixed_position)\n",
    "        v = y\n",
    "        z = -gz_model[:,fixed_index]\n",
    "    else:\n",
    "        print('assert: fixed axis is y or x (variable axis is x or y)')\n",
    "        return\n",
    "    nan_sequence = find_nan_sequence(z)  # gap represented as [nan, nan, ...]\n",
    "    if len(nan_sequence) % 2 != 0:\n",
    "        print('assert: nan sequence is not array of begin-index and end-index pair')\n",
    "    gaps = []\n",
    "    for i in range(0, len(nan_sequence)-1, 2):\n",
    "        gap_ibegin = nan_sequence[i] - 1\n",
    "        gap_iend = nan_sequence[i+1] + 1\n",
    "        if gap_ibegin <= 0 or gap_iend >= len(v):\n",
    "            continue  # ignore edge of array\n",
    "        if gap_iend - gap_ibegin > 50:  # 50mm at 0.01 resolution\n",
    "            continue  # ignore large nan sequence\n",
    "        gap_vbegin = v[gap_ibegin]\n",
    "        gap_vend = v[gap_iend]\n",
    "        gap_zbegin = z[gap_ibegin]\n",
    "        gap_zend = z[gap_iend]\n",
    "        if np.isnan(gap_zbegin) or np.isnan(gap_zend):\n",
    "            continue\n",
    "        if fixed_axis == 'y':\n",
    "            gap = np.array([gap_vbegin, fixed_position, gap_zbegin, gap_vend, fixed_position, gap_zend])  # [x1,y1,z1,x2,y2,z2]\n",
    "        elif fixed_axis == 'x':\n",
    "            gap = np.array([fixed_position, gap_vbegin, gap_zbegin, fixed_position, gap_vend, gap_zend])            \n",
    "        gaps.append(gap)\n",
    "    return np.array(gaps)  # [[x1,y1,z1,x2,y2,z2], [x1,y1,z1,x2,y2,z2], ...]"
   ]
  },
  {
   "cell_type": "code",
   "execution_count": null,
   "metadata": {
    "scrolled": false
   },
   "outputs": [],
   "source": [
    "# visualize x direction line profile\n",
    "y_fixed = 6.95  # 6.85, 6.95\n",
    "fig_title = 'Line Profile - Rtheta %s [m]' % y_fixed \n",
    "gaps = find_gaps(y_fixed, 'y')\n",
    "#print(gaps)\n",
    "fig = plt.figure()\n",
    "ax = plt.axes()\n",
    "z_measured = -gz_measured.transpose()[:,find_index(y, y_fixed)]\n",
    "z_model = -gz_model.transpose()[:,find_index(y, y_fixed)]\n",
    "ax.scatter(x, z_measured, s=1, c='royalblue', label='Measured')\n",
    "ax.plot(x, z_model, linewidth=1, c='black', label='Reconstructed model')\n",
    "ax.set_xlabel('Tunnel depth [m]')\n",
    "ax.set_ylabel('Flatness [m]')\n",
    "#ax.axis('equal')\n",
    "# draw rectangle as gap\n",
    "comment = \"\"\n",
    "for i, gap in enumerate(gaps):\n",
    "    gap_width = gap[3] - gap[0]  # x width\n",
    "    gap_height = gap[5] - gap[2]\n",
    "    comment = comment + '(%s) gap width: %f [m], gap height: %f[m]\\n' % (i+1, gap_width, gap_height)\n",
    "    rect = patches.Rectangle((gap[0], gap[2]), width=gap_width, height=gap_height, linewidth=1, alpha=0.75, facecolor='red', label='Gap'+str(i+1))\n",
    "    ax.add_patch(rect)\n",
    "fig.text(0.14, 0.78, comment, size=9, c=\"black\")\n",
    "ax.legend(bbox_to_anchor=(1, 0), loc='lower right', borderaxespad=1, fontsize=9)\n",
    "print(comment)\n",
    "plt.title(fig_title)\n",
    "save_plot(os.path.join(save_dirpath, cloud_filename + '_' + fig_title + '.png' ))\n",
    "plt.show()"
   ]
  },
  {
   "cell_type": "code",
   "execution_count": null,
   "metadata": {},
   "outputs": [],
   "source": [
    "#save_plot(os.path.join(save_dirpath, cloud_filename + '_' + fig_title + '_up.png' ))"
   ]
  },
  {
   "cell_type": "code",
   "execution_count": null,
   "metadata": {},
   "outputs": [],
   "source": [
    "# visualize y direction line profile\n",
    "x_fixed = -1.0\n",
    "fig_title = 'Line Profile - Tunnel depth %s [m]' % x_fixed\n",
    "gaps = find_gaps(x_fixed, 'x')\n",
    "#print(gaps)\n",
    "fig = plt.figure()\n",
    "ax = plt.axes()\n",
    "idx = find_index(x, x_fixed)\n",
    "z_measured = -gz_measured[:,idx]\n",
    "z_model = -gz_model[:,idx]\n",
    "ax.scatter(y, z_measured, s=1, c='royalblue', label='Measured')\n",
    "ax.plot(y, z_model, linewidth=1, c='black', label='Reconstructed model')\n",
    "ax.set_xlabel('R*theta [m]')\n",
    "ax.set_ylabel('Flatness [m]')\n",
    "#ax.axis('equal')\n",
    "# draw rectangle as gap\n",
    "comment = \"\"\n",
    "for i, gap in enumerate(gaps):\n",
    "    gap_width = gap[4] - gap[1]  # y width\n",
    "    gap_height = gap[5] - gap[2]\n",
    "    comment = comment + '(%s) gap width: %f [m], gap height: %f[m]\\n' % (i+1, gap_width, gap_height)\n",
    "    rect = patches.Rectangle((gap[1], gap[2]), width=gap_width, height=gap_height, linewidth=1, alpha=0.75, facecolor='red', label='Gap'+str(i+1))\n",
    "    ax.add_patch(rect)\n",
    "fig.text(0.14, 0.78, comment, size=9, c=\"black\")\n",
    "ax.legend(bbox_to_anchor=(1, 0), loc='lower right', borderaxespad=1, fontsize=9)\n",
    "print(comment)\n",
    "plt.title(fig_title)\n",
    "save_plot(os.path.join(save_dirpath, cloud_filename + '_' + fig_title + '.png' ))\n",
    "plt.show()"
   ]
  },
  {
   "cell_type": "code",
   "execution_count": null,
   "metadata": {},
   "outputs": [],
   "source": [
    "#save_plot(os.path.join(save_dirpath, cloud_filename + '_' + fig_title + '_up.png' ))"
   ]
  },
  {
   "cell_type": "markdown",
   "metadata": {},
   "source": [
    "### Gap width, height map"
   ]
  },
  {
   "cell_type": "code",
   "execution_count": null,
   "metadata": {},
   "outputs": [],
   "source": [
    "def toindex(val, offset, resolution):\n",
    "    return int((val - offset) / resolution)\n",
    "\n",
    "def xindex(val):\n",
    "    return toindex(val, x[0], dx)\n",
    "\n",
    "def yindex(val):\n",
    "    return toindex(val, y[0], dy)"
   ]
  },
  {
   "cell_type": "code",
   "execution_count": null,
   "metadata": {},
   "outputs": [],
   "source": [
    "# find gaps at x, y direction\n",
    "xdirection_gaps_list = list(map(lambda val: find_gaps(val, 'y'), y))\n",
    "ydirection_gaps_list = list(map(lambda val: find_gaps(val, 'x'), x))"
   ]
  },
  {
   "cell_type": "code",
   "execution_count": null,
   "metadata": {},
   "outputs": [],
   "source": [
    "# create grid data\n",
    "gap_width_map = np.zeros((ny, nx), dtype=float)\n",
    "gap_width_map.fill(np.nan)\n",
    "gap_height_map = np.zeros((ny, nx), dtype=float)\n",
    "gap_height_map.fill(np.nan)\n",
    "# fill x direction gap width and height\n",
    "for gaps_list in xdirection_gaps_list:\n",
    "    for gaps in gaps_list:\n",
    "        j = yindex(gaps[1])\n",
    "        gap_width = gaps[3] - gaps[0]  # x2 - x1\n",
    "        gap_height = gaps[5] - gaps[2]  # z2 - z1\n",
    "        for val in np.arange(gaps[0], gaps[3] + dx, dx):\n",
    "            i = xindex(val)\n",
    "            gap_width_map[j][i] = gap_width\n",
    "            gap_height_map[j][i] = gap_height\n",
    "# fill y direction gap width and height\n",
    "for gaps_list in ydirection_gaps_list:\n",
    "    for gaps in gaps_list:\n",
    "        i = xindex(gaps[0])\n",
    "        gap_width = gaps[4] - gaps[1]  # y2 - y1\n",
    "        gap_height = gaps[5] - gaps[2]\n",
    "        for val in np.arange(gaps[1], gaps[4] + dy, dy):\n",
    "            j = yindex(val)\n",
    "            gap_width_map[j][i] = gap_width\n",
    "            gap_height_map[j][i] = gap_height"
   ]
  },
  {
   "cell_type": "code",
   "execution_count": null,
   "metadata": {
    "scrolled": false
   },
   "outputs": [],
   "source": [
    "# viusualize gap width\n",
    "fig_title = 'Gap Width (Mehiraki)'\n",
    "#plt.imshow(gap_width_map.transpose(), cmap='rainbow', extent=extent_transposed, vmin=np.nanmin(gap_width_map), vmax=np.nanmax(gap_width_map), interpolation='none')\n",
    "plt.imshow(gap_width_map.transpose(), cmap='rainbow', extent=extent_transposed, vmin=np.nanmin(gap_width_map), vmax=0.012, interpolation='none')\n",
    "cbar = plt.colorbar(shrink=0.5)  # orientation='horizontal'\n",
    "cbar.set_label('Gap width [m]')\n",
    "set_plot_label()\n",
    "plt.title(fig_title)\n",
    "save_plot(os.path.join(save_dirpath, cloud_filename + '_' + fig_title + '.png' ))\n",
    "plt.show()"
   ]
  },
  {
   "cell_type": "code",
   "execution_count": null,
   "metadata": {},
   "outputs": [],
   "source": [
    "# viusualize gap height\n",
    "fig_title = 'Gap Height (Mechigai)'\n",
    "plt.imshow(gap_height_map.transpose(), cmap='rainbow', extent=extent_transposed, vmin=np.nanmin(gap_height_map), vmax=np.nanmax(gap_height_map), interpolation='none')\n",
    "cbar = plt.colorbar(shrink=0.5)  # orientation='horizontal'\n",
    "cbar.set_label('Gap height [m]')\n",
    "set_plot_label()\n",
    "plt.title(fig_title)\n",
    "save_plot(os.path.join(save_dirpath, cloud_filename + '_' + fig_title + '.png' ))\n",
    "plt.show()"
   ]
  },
  {
   "cell_type": "code",
   "execution_count": null,
   "metadata": {},
   "outputs": [],
   "source": []
  },
  {
   "cell_type": "markdown",
   "metadata": {},
   "source": [
    "### Additional functions"
   ]
  },
  {
   "cell_type": "code",
   "execution_count": null,
   "metadata": {},
   "outputs": [],
   "source": [
    "# create grid data\n",
    "# x_arr, y_arr, z_arr: unorganized data set in np.array()\n",
    "# resolution: 1 grid size\n",
    "# interpolation_method: nearest, linear, cubic\n",
    "# return grid of x, y, z\n",
    "def resample_to_griddata(x_arr, y_arr, z_arr, resolution, interpolation_method='nearest'):\n",
    "    dx = dy = resolution\n",
    "    nx = int((np.max(x_arr) - np.min(x_arr)) / dx)\n",
    "    ny = int((np.max(y_arr) - np.min(y_arr)) / dy)\n",
    "    print('data size: (%s, %s)' % (nx, ny))\n",
    "    x = np.linspace(np.min(x_arr), np.max(x_arr), nx)\n",
    "    y = np.linspace(np.min(y_arr), np.max(y_arr), ny)\n",
    "    gx, gy = np.meshgrid(x, y)\n",
    "    points = np.array([x_arr, y_arr]).transpose()  # [x0,x1,...] and [y0,y1,...] ==> [[x0,y0], [x1,y1], ...]\n",
    "    values = z_arr\n",
    "    gz = griddata(points, values, (gx, gy), method=interpolation_method)\n",
    "    return gx, gy, gz"
   ]
  },
  {
   "cell_type": "code",
   "execution_count": null,
   "metadata": {},
   "outputs": [],
   "source": [
    "def save_griddata_to_csv(filepath, gx, gy, gz):\n",
    "    if not gx.shape == gy.shape == gz.shape:\n",
    "        print(\"Error: grid shape is not uniformed\")\n",
    "        return\n",
    "    df = pd.DataFrame()\n",
    "    df['x'] = gx.flatten()\n",
    "    df['y'] = gy.flatten()\n",
    "    df['z'] = gz.flatten()\n",
    "    df.to_csv(filepath, sep='\\t', index=None, header=True, compression='zip')\n",
    "\n",
    "def load_griddata_from_csv(filepath):\n",
    "    df = pd.read_csv(filepath, sep='\\t', compression='zip')\n",
    "    nx = len(df.x.drop_duplicates())\n",
    "    ny = len(df.y.drop_duplicates())\n",
    "    print('data size: (%s, %s)' % (nx, ny))\n",
    "    gx = np.array(df.x).reshape(ny, nx)\n",
    "    gy = np.array(df.y).reshape(ny, nx)\n",
    "    gz = np.array(df.z).reshape(ny, nx)\n",
    "    return gx, gy, gz"
   ]
  },
  {
   "cell_type": "code",
   "execution_count": null,
   "metadata": {},
   "outputs": [],
   "source": [
    "#save_griddata_to_csv('region.csv.zip', gx_region, gy_region, gz_region)\n",
    "#gx, gy, gz = load_griddata_from_csv('region.csv.zip')"
   ]
  },
  {
   "cell_type": "code",
   "execution_count": null,
   "metadata": {},
   "outputs": [],
   "source": []
  }
 ],
 "metadata": {
  "kernelspec": {
   "display_name": "Python 3",
   "language": "python",
   "name": "python3"
  },
  "language_info": {
   "codemirror_mode": {
    "name": "ipython",
    "version": 3
   },
   "file_extension": ".py",
   "mimetype": "text/x-python",
   "name": "python",
   "nbconvert_exporter": "python",
   "pygments_lexer": "ipython3",
   "version": "3.8.5"
  }
 },
 "nbformat": 4,
 "nbformat_minor": 4
}
