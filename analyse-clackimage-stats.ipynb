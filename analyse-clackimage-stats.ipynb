{
 "cells": [
  {
   "cell_type": "code",
   "execution_count": 62,
   "metadata": {},
   "outputs": [],
   "source": [
    "import pandas as pd\n",
    "import numpy as np\n",
    "import matplotlib.pyplot as plt\n",
    "pd.options.display.max_colwidth = 100\n",
    "%matplotlib inline"
   ]
  },
  {
   "cell_type": "code",
   "execution_count": 63,
   "metadata": {},
   "outputs": [],
   "source": [
    "# 安藤ハザマ 大日精化工業 グラビア ixs\n",
    "#filepath = r\"D:\\workspace\\ah01\\Crack01\\20201013110339_gravure-01_ixs\\CollectCrackStat.result\\result.csv\"\n",
    "# 安藤ハザマ 大日精化工業 グラビア isp\n",
    "#filepath = r\"D:\\workspace\\ah01\\Crack01\\20201013110339_gravure-01_isp\\CollectCrackStat.result\\result.csv\"\n",
    "# 安藤ハザマ 大日精化工業 工場棟 ixs\n",
    "#filepath = r\"D:\\workspace\\ah01\\Crack01\\20201014103754_factory3-02_ixs\\CollectCrackStart.result\\result.csv\"\n",
    "# 安藤ハザマ 大日精化工業 工場棟 isp\n",
    "filepath = r\"D:\\workspace\\ah01\\Crack01\\20201014103754_factory3-02_isp\\CollectCrackStart.result\\result.csv\"\n",
    "df = pd.read_csv(filepath, sep='\\t')"
   ]
  },
  {
   "cell_type": "code",
   "execution_count": 64,
   "metadata": {},
   "outputs": [
    {
     "data": {
      "text/html": [
       "<div>\n",
       "<style scoped>\n",
       "    .dataframe tbody tr th:only-of-type {\n",
       "        vertical-align: middle;\n",
       "    }\n",
       "\n",
       "    .dataframe tbody tr th {\n",
       "        vertical-align: top;\n",
       "    }\n",
       "\n",
       "    .dataframe thead th {\n",
       "        text-align: right;\n",
       "    }\n",
       "</style>\n",
       "<table border=\"1\" class=\"dataframe\">\n",
       "  <thead>\n",
       "    <tr style=\"text-align: right;\">\n",
       "      <th></th>\n",
       "      <th>FileIndex</th>\n",
       "      <th>Filename</th>\n",
       "      <th>CrackIndex</th>\n",
       "      <th>CrackArea</th>\n",
       "      <th>CrackLength</th>\n",
       "      <th>AreaLengthRatio</th>\n",
       "    </tr>\n",
       "  </thead>\n",
       "  <tbody>\n",
       "    <tr>\n",
       "      <th>0</th>\n",
       "      <td>0</td>\n",
       "      <td>20201014103754_factory3-02_1_-000001_-005407_-090654_crack_left.png</td>\n",
       "      <td>0</td>\n",
       "      <td>21.5</td>\n",
       "      <td>18.384776</td>\n",
       "      <td>0.063609</td>\n",
       "    </tr>\n",
       "    <tr>\n",
       "      <th>1</th>\n",
       "      <td>0</td>\n",
       "      <td>20201014103754_factory3-02_1_-000001_-005407_-090654_crack_left.png</td>\n",
       "      <td>1</td>\n",
       "      <td>1.0</td>\n",
       "      <td>1.414214</td>\n",
       "      <td>0.500000</td>\n",
       "    </tr>\n",
       "    <tr>\n",
       "      <th>2</th>\n",
       "      <td>0</td>\n",
       "      <td>20201014103754_factory3-02_1_-000001_-005407_-090654_crack_left.png</td>\n",
       "      <td>2</td>\n",
       "      <td>1.0</td>\n",
       "      <td>1.414214</td>\n",
       "      <td>0.500000</td>\n",
       "    </tr>\n",
       "    <tr>\n",
       "      <th>3</th>\n",
       "      <td>0</td>\n",
       "      <td>20201014103754_factory3-02_1_-000001_-005407_-090654_crack_left.png</td>\n",
       "      <td>3</td>\n",
       "      <td>4.0</td>\n",
       "      <td>3.162278</td>\n",
       "      <td>0.400000</td>\n",
       "    </tr>\n",
       "    <tr>\n",
       "      <th>4</th>\n",
       "      <td>0</td>\n",
       "      <td>20201014103754_factory3-02_1_-000001_-005407_-090654_crack_left.png</td>\n",
       "      <td>4</td>\n",
       "      <td>2.0</td>\n",
       "      <td>2.236068</td>\n",
       "      <td>0.400000</td>\n",
       "    </tr>\n",
       "    <tr>\n",
       "      <th>...</th>\n",
       "      <td>...</td>\n",
       "      <td>...</td>\n",
       "      <td>...</td>\n",
       "      <td>...</td>\n",
       "      <td>...</td>\n",
       "      <td>...</td>\n",
       "    </tr>\n",
       "    <tr>\n",
       "      <th>2175565</th>\n",
       "      <td>8194</td>\n",
       "      <td>20201014103754_factory3-02_1_033083_-001764_-089149_crack_right.png</td>\n",
       "      <td>80</td>\n",
       "      <td>26.5</td>\n",
       "      <td>12.529964</td>\n",
       "      <td>0.168790</td>\n",
       "    </tr>\n",
       "    <tr>\n",
       "      <th>2175566</th>\n",
       "      <td>8194</td>\n",
       "      <td>20201014103754_factory3-02_1_033083_-001764_-089149_crack_right.png</td>\n",
       "      <td>81</td>\n",
       "      <td>7.0</td>\n",
       "      <td>9.219544</td>\n",
       "      <td>0.082353</td>\n",
       "    </tr>\n",
       "    <tr>\n",
       "      <th>2175567</th>\n",
       "      <td>8194</td>\n",
       "      <td>20201014103754_factory3-02_1_033083_-001764_-089149_crack_right.png</td>\n",
       "      <td>82</td>\n",
       "      <td>1.0</td>\n",
       "      <td>1.414214</td>\n",
       "      <td>0.500000</td>\n",
       "    </tr>\n",
       "    <tr>\n",
       "      <th>2175568</th>\n",
       "      <td>8194</td>\n",
       "      <td>20201014103754_factory3-02_1_033083_-001764_-089149_crack_right.png</td>\n",
       "      <td>83</td>\n",
       "      <td>1.0</td>\n",
       "      <td>1.414214</td>\n",
       "      <td>0.500000</td>\n",
       "    </tr>\n",
       "    <tr>\n",
       "      <th>2175569</th>\n",
       "      <td>8194</td>\n",
       "      <td>20201014103754_factory3-02_1_033083_-001764_-089149_crack_right.png</td>\n",
       "      <td>84</td>\n",
       "      <td>14.0</td>\n",
       "      <td>10.295630</td>\n",
       "      <td>0.132075</td>\n",
       "    </tr>\n",
       "  </tbody>\n",
       "</table>\n",
       "<p>2175570 rows × 6 columns</p>\n",
       "</div>"
      ],
      "text/plain": [
       "         FileIndex  \\\n",
       "0                0   \n",
       "1                0   \n",
       "2                0   \n",
       "3                0   \n",
       "4                0   \n",
       "...            ...   \n",
       "2175565       8194   \n",
       "2175566       8194   \n",
       "2175567       8194   \n",
       "2175568       8194   \n",
       "2175569       8194   \n",
       "\n",
       "                                                                    Filename  \\\n",
       "0        20201014103754_factory3-02_1_-000001_-005407_-090654_crack_left.png   \n",
       "1        20201014103754_factory3-02_1_-000001_-005407_-090654_crack_left.png   \n",
       "2        20201014103754_factory3-02_1_-000001_-005407_-090654_crack_left.png   \n",
       "3        20201014103754_factory3-02_1_-000001_-005407_-090654_crack_left.png   \n",
       "4        20201014103754_factory3-02_1_-000001_-005407_-090654_crack_left.png   \n",
       "...                                                                      ...   \n",
       "2175565  20201014103754_factory3-02_1_033083_-001764_-089149_crack_right.png   \n",
       "2175566  20201014103754_factory3-02_1_033083_-001764_-089149_crack_right.png   \n",
       "2175567  20201014103754_factory3-02_1_033083_-001764_-089149_crack_right.png   \n",
       "2175568  20201014103754_factory3-02_1_033083_-001764_-089149_crack_right.png   \n",
       "2175569  20201014103754_factory3-02_1_033083_-001764_-089149_crack_right.png   \n",
       "\n",
       "         CrackIndex  CrackArea  CrackLength  AreaLengthRatio  \n",
       "0                 0       21.5    18.384776         0.063609  \n",
       "1                 1        1.0     1.414214         0.500000  \n",
       "2                 2        1.0     1.414214         0.500000  \n",
       "3                 3        4.0     3.162278         0.400000  \n",
       "4                 4        2.0     2.236068         0.400000  \n",
       "...             ...        ...          ...              ...  \n",
       "2175565          80       26.5    12.529964         0.168790  \n",
       "2175566          81        7.0     9.219544         0.082353  \n",
       "2175567          82        1.0     1.414214         0.500000  \n",
       "2175568          83        1.0     1.414214         0.500000  \n",
       "2175569          84       14.0    10.295630         0.132075  \n",
       "\n",
       "[2175570 rows x 6 columns]"
      ]
     },
     "execution_count": 64,
     "metadata": {},
     "output_type": "execute_result"
    }
   ],
   "source": [
    "df"
   ]
  },
  {
   "cell_type": "code",
   "execution_count": 65,
   "metadata": {},
   "outputs": [
    {
     "data": {
      "text/html": [
       "<div>\n",
       "<style scoped>\n",
       "    .dataframe tbody tr th:only-of-type {\n",
       "        vertical-align: middle;\n",
       "    }\n",
       "\n",
       "    .dataframe tbody tr th {\n",
       "        vertical-align: top;\n",
       "    }\n",
       "\n",
       "    .dataframe thead th {\n",
       "        text-align: right;\n",
       "    }\n",
       "</style>\n",
       "<table border=\"1\" class=\"dataframe\">\n",
       "  <thead>\n",
       "    <tr style=\"text-align: right;\">\n",
       "      <th></th>\n",
       "      <th>FileIndex</th>\n",
       "      <th>CrackIndex</th>\n",
       "      <th>CrackArea</th>\n",
       "      <th>CrackLength</th>\n",
       "      <th>AreaLengthRatio</th>\n",
       "    </tr>\n",
       "  </thead>\n",
       "  <tbody>\n",
       "    <tr>\n",
       "      <th>count</th>\n",
       "      <td>2.175570e+06</td>\n",
       "      <td>2.175570e+06</td>\n",
       "      <td>2.175570e+06</td>\n",
       "      <td>2.175570e+06</td>\n",
       "      <td>2.175570e+06</td>\n",
       "    </tr>\n",
       "    <tr>\n",
       "      <th>mean</th>\n",
       "      <td>4.743108e+03</td>\n",
       "      <td>3.883014e+02</td>\n",
       "      <td>2.034963e+02</td>\n",
       "      <td>7.991674e+00</td>\n",
       "      <td>2.187654e-01</td>\n",
       "    </tr>\n",
       "    <tr>\n",
       "      <th>std</th>\n",
       "      <td>2.169961e+03</td>\n",
       "      <td>4.611573e+02</td>\n",
       "      <td>4.854666e+04</td>\n",
       "      <td>2.130758e+01</td>\n",
       "      <td>1.600248e-01</td>\n",
       "    </tr>\n",
       "    <tr>\n",
       "      <th>min</th>\n",
       "      <td>0.000000e+00</td>\n",
       "      <td>0.000000e+00</td>\n",
       "      <td>1.000000e+00</td>\n",
       "      <td>1.414214e+00</td>\n",
       "      <td>1.031000e-03</td>\n",
       "    </tr>\n",
       "    <tr>\n",
       "      <th>25%</th>\n",
       "      <td>3.401000e+03</td>\n",
       "      <td>7.900000e+01</td>\n",
       "      <td>2.000000e+00</td>\n",
       "      <td>2.828427e+00</td>\n",
       "      <td>9.050400e-02</td>\n",
       "    </tr>\n",
       "    <tr>\n",
       "      <th>50%</th>\n",
       "      <td>4.742000e+03</td>\n",
       "      <td>2.180000e+02</td>\n",
       "      <td>4.000000e+00</td>\n",
       "      <td>5.656854e+00</td>\n",
       "      <td>1.403850e-01</td>\n",
       "    </tr>\n",
       "    <tr>\n",
       "      <th>75%</th>\n",
       "      <td>6.595000e+03</td>\n",
       "      <td>5.290000e+02</td>\n",
       "      <td>1.300000e+01</td>\n",
       "      <td>1.081665e+01</td>\n",
       "      <td>4.000000e-01</td>\n",
       "    </tr>\n",
       "    <tr>\n",
       "      <th>max</th>\n",
       "      <td>8.194000e+03</td>\n",
       "      <td>4.748000e+03</td>\n",
       "      <td>1.228043e+07</td>\n",
       "      <td>5.077127e+03</td>\n",
       "      <td>5.200000e-01</td>\n",
       "    </tr>\n",
       "  </tbody>\n",
       "</table>\n",
       "</div>"
      ],
      "text/plain": [
       "          FileIndex    CrackIndex     CrackArea   CrackLength  AreaLengthRatio\n",
       "count  2.175570e+06  2.175570e+06  2.175570e+06  2.175570e+06     2.175570e+06\n",
       "mean   4.743108e+03  3.883014e+02  2.034963e+02  7.991674e+00     2.187654e-01\n",
       "std    2.169961e+03  4.611573e+02  4.854666e+04  2.130758e+01     1.600248e-01\n",
       "min    0.000000e+00  0.000000e+00  1.000000e+00  1.414214e+00     1.031000e-03\n",
       "25%    3.401000e+03  7.900000e+01  2.000000e+00  2.828427e+00     9.050400e-02\n",
       "50%    4.742000e+03  2.180000e+02  4.000000e+00  5.656854e+00     1.403850e-01\n",
       "75%    6.595000e+03  5.290000e+02  1.300000e+01  1.081665e+01     4.000000e-01\n",
       "max    8.194000e+03  4.748000e+03  1.228043e+07  5.077127e+03     5.200000e-01"
      ]
     },
     "execution_count": 65,
     "metadata": {},
     "output_type": "execute_result"
    }
   ],
   "source": [
    "df.describe()"
   ]
  },
  {
   "cell_type": "code",
   "execution_count": 66,
   "metadata": {},
   "outputs": [
    {
     "name": "stdout",
     "output_type": "stream",
     "text": [
      "30.0\n"
     ]
    }
   ],
   "source": [
    "crackarea = sorted(df.CrackArea)\n",
    "crackarea_th = crackarea[int(len(crackarea) * 0.9)]\n",
    "print(crackarea_th)"
   ]
  },
  {
   "cell_type": "code",
   "execution_count": 67,
   "metadata": {},
   "outputs": [
    {
     "name": "stdout",
     "output_type": "stream",
     "text": [
      "16.763054999999998\n"
     ]
    }
   ],
   "source": [
    "cracklength = sorted(df.CrackLength)\n",
    "cracklength_th = cracklength[int(len(cracklength) * 0.9)]\n",
    "print(cracklength_th)"
   ]
  },
  {
   "cell_type": "code",
   "execution_count": 68,
   "metadata": {},
   "outputs": [
    {
     "data": {
      "image/png": "[encoded data removed]",
      "text/plain": [
       "<Figure size 432x288 with 1 Axes>"
      ]
     },
     "metadata": {
      "needs_background": "light"
     },
     "output_type": "display_data"
    }
   ],
   "source": [
    "plt.hist(df.CrackArea, bins=100)\n",
    "plt.show()"
   ]
  },
  {
   "cell_type": "code",
   "execution_count": 69,
   "metadata": {},
   "outputs": [
    {
     "data": {
      "image/png": "[encoded data removed]",
      "text/plain": [
       "<Figure size 432x288 with 1 Axes>"
      ]
     },
     "metadata": {
      "needs_background": "light"
     },
     "output_type": "display_data"
    }
   ],
   "source": [
    "plt.hist(df.AreaLengthRatio, bins=100)\n",
    "plt.show()"
   ]
  },
  {
   "cell_type": "code",
   "execution_count": 70,
   "metadata": {},
   "outputs": [
    {
     "data": {
      "image/png": "[encoded data removed]",
      "text/plain": [
       "<Figure size 432x288 with 1 Axes>"
      ]
     },
     "metadata": {
      "needs_background": "light"
     },
     "output_type": "display_data"
    }
   ],
   "source": [
    "plt.hist(df[df.CrackArea > crackarea_th].AreaLengthRatio, bins=100)\n",
    "plt.show()"
   ]
  }
 ],
 "metadata": {
  "kernelspec": {
   "display_name": "Python 3",
   "language": "python",
   "name": "python3"
  },
  "language_info": {
   "codemirror_mode": {
    "name": "ipython",
    "version": 3
   },
   "file_extension": ".py",
   "mimetype": "text/x-python",
   "name": "python",
   "nbconvert_exporter": "python",
   "pygments_lexer": "ipython3",
   "version": "3.8.3"
  }
 },
 "nbformat": 4,
 "nbformat_minor": 4
}
