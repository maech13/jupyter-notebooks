{
 "cells": [
  {
   "cell_type": "code",
   "execution_count": 1,
   "metadata": {},
   "outputs": [],
   "source": [
    "from pandas import *\n",
    "from numpy import *\n",
    "from matplotlib.pyplot import *\n",
    "options.display.max_colwidth = 100"
   ]
  },
  {
   "cell_type": "code",
   "execution_count": 2,
   "metadata": {},
   "outputs": [],
   "source": [
    "df = read_csv(r\"C:\\home\\repo\\CrackShapeAnalysis\\out\\build\\x64-Release\\CollectCrackStat\\out\\result.csv\", sep='\\t')"
   ]
  },
  {
   "cell_type": "code",
   "execution_count": 3,
   "metadata": {},
   "outputs": [
    {
     "data": {
      "text/html": [
       "<div>\n",
       "<style scoped>\n",
       "    .dataframe tbody tr th:only-of-type {\n",
       "        vertical-align: middle;\n",
       "    }\n",
       "\n",
       "    .dataframe tbody tr th {\n",
       "        vertical-align: top;\n",
       "    }\n",
       "\n",
       "    .dataframe thead th {\n",
       "        text-align: right;\n",
       "    }\n",
       "</style>\n",
       "<table border=\"1\" class=\"dataframe\">\n",
       "  <thead>\n",
       "    <tr style=\"text-align: right;\">\n",
       "      <th></th>\n",
       "      <th>FileIndex</th>\n",
       "      <th>Filename</th>\n",
       "      <th>CrackIndex</th>\n",
       "      <th>CrackArea</th>\n",
       "      <th>CrackLength</th>\n",
       "      <th>AreaLengthRatio</th>\n",
       "    </tr>\n",
       "  </thead>\n",
       "  <tbody>\n",
       "    <tr>\n",
       "      <th>0</th>\n",
       "      <td>0</td>\n",
       "      <td>20201016144317_flexo3-01_2_-000002_-000998_-08...</td>\n",
       "      <td>0</td>\n",
       "      <td>10.0</td>\n",
       "      <td>6.08276</td>\n",
       "      <td>0.27027</td>\n",
       "    </tr>\n",
       "    <tr>\n",
       "      <th>1</th>\n",
       "      <td>0</td>\n",
       "      <td>20201016144317_flexo3-01_2_-000002_-000998_-08...</td>\n",
       "      <td>1</td>\n",
       "      <td>23.0</td>\n",
       "      <td>11.70470</td>\n",
       "      <td>0.16788</td>\n",
       "    </tr>\n",
       "    <tr>\n",
       "      <th>2</th>\n",
       "      <td>0</td>\n",
       "      <td>20201016144317_flexo3-01_2_-000002_-000998_-08...</td>\n",
       "      <td>2</td>\n",
       "      <td>373.5</td>\n",
       "      <td>69.77822</td>\n",
       "      <td>0.07671</td>\n",
       "    </tr>\n",
       "    <tr>\n",
       "      <th>3</th>\n",
       "      <td>0</td>\n",
       "      <td>20201016144317_flexo3-01_2_-000002_-000998_-08...</td>\n",
       "      <td>3</td>\n",
       "      <td>2.0</td>\n",
       "      <td>2.23607</td>\n",
       "      <td>0.40000</td>\n",
       "    </tr>\n",
       "    <tr>\n",
       "      <th>4</th>\n",
       "      <td>0</td>\n",
       "      <td>20201016144317_flexo3-01_2_-000002_-000998_-08...</td>\n",
       "      <td>4</td>\n",
       "      <td>182.5</td>\n",
       "      <td>40.45986</td>\n",
       "      <td>0.11148</td>\n",
       "    </tr>\n",
       "    <tr>\n",
       "      <th>...</th>\n",
       "      <td>...</td>\n",
       "      <td>...</td>\n",
       "      <td>...</td>\n",
       "      <td>...</td>\n",
       "      <td>...</td>\n",
       "      <td>...</td>\n",
       "    </tr>\n",
       "    <tr>\n",
       "      <th>24615</th>\n",
       "      <td>401</td>\n",
       "      <td>20201016144317_flexo3-01_2_004282_-000554_-178...</td>\n",
       "      <td>48</td>\n",
       "      <td>2.0</td>\n",
       "      <td>2.23607</td>\n",
       "      <td>0.40000</td>\n",
       "    </tr>\n",
       "    <tr>\n",
       "      <th>24616</th>\n",
       "      <td>401</td>\n",
       "      <td>20201016144317_flexo3-01_2_004282_-000554_-178...</td>\n",
       "      <td>49</td>\n",
       "      <td>39.5</td>\n",
       "      <td>21.93171</td>\n",
       "      <td>0.08212</td>\n",
       "    </tr>\n",
       "    <tr>\n",
       "      <th>24617</th>\n",
       "      <td>401</td>\n",
       "      <td>20201016144317_flexo3-01_2_004282_-000554_-178...</td>\n",
       "      <td>50</td>\n",
       "      <td>1.0</td>\n",
       "      <td>1.41421</td>\n",
       "      <td>0.50000</td>\n",
       "    </tr>\n",
       "    <tr>\n",
       "      <th>24618</th>\n",
       "      <td>401</td>\n",
       "      <td>20201016144317_flexo3-01_2_004282_-000554_-178...</td>\n",
       "      <td>51</td>\n",
       "      <td>10.0</td>\n",
       "      <td>9.21954</td>\n",
       "      <td>0.11765</td>\n",
       "    </tr>\n",
       "    <tr>\n",
       "      <th>24619</th>\n",
       "      <td>401</td>\n",
       "      <td>20201016144317_flexo3-01_2_004282_-000554_-178...</td>\n",
       "      <td>52</td>\n",
       "      <td>1.0</td>\n",
       "      <td>6.32456</td>\n",
       "      <td>0.02500</td>\n",
       "    </tr>\n",
       "  </tbody>\n",
       "</table>\n",
       "<p>24620 rows × 6 columns</p>\n",
       "</div>"
      ],
      "text/plain": [
       "       FileIndex                                           Filename  \\\n",
       "0              0  20201016144317_flexo3-01_2_-000002_-000998_-08...   \n",
       "1              0  20201016144317_flexo3-01_2_-000002_-000998_-08...   \n",
       "2              0  20201016144317_flexo3-01_2_-000002_-000998_-08...   \n",
       "3              0  20201016144317_flexo3-01_2_-000002_-000998_-08...   \n",
       "4              0  20201016144317_flexo3-01_2_-000002_-000998_-08...   \n",
       "...          ...                                                ...   \n",
       "24615        401  20201016144317_flexo3-01_2_004282_-000554_-178...   \n",
       "24616        401  20201016144317_flexo3-01_2_004282_-000554_-178...   \n",
       "24617        401  20201016144317_flexo3-01_2_004282_-000554_-178...   \n",
       "24618        401  20201016144317_flexo3-01_2_004282_-000554_-178...   \n",
       "24619        401  20201016144317_flexo3-01_2_004282_-000554_-178...   \n",
       "\n",
       "       CrackIndex  CrackArea  CrackLength  AreaLengthRatio  \n",
       "0               0       10.0      6.08276          0.27027  \n",
       "1               1       23.0     11.70470          0.16788  \n",
       "2               2      373.5     69.77822          0.07671  \n",
       "3               3        2.0      2.23607          0.40000  \n",
       "4               4      182.5     40.45986          0.11148  \n",
       "...           ...        ...          ...              ...  \n",
       "24615          48        2.0      2.23607          0.40000  \n",
       "24616          49       39.5     21.93171          0.08212  \n",
       "24617          50        1.0      1.41421          0.50000  \n",
       "24618          51       10.0      9.21954          0.11765  \n",
       "24619          52        1.0      6.32456          0.02500  \n",
       "\n",
       "[24620 rows x 6 columns]"
      ]
     },
     "execution_count": 3,
     "metadata": {},
     "output_type": "execute_result"
    }
   ],
   "source": [
    "df"
   ]
  },
  {
   "cell_type": "code",
   "execution_count": 4,
   "metadata": {},
   "outputs": [
    {
     "data": {
      "text/html": [
       "<div>\n",
       "<style scoped>\n",
       "    .dataframe tbody tr th:only-of-type {\n",
       "        vertical-align: middle;\n",
       "    }\n",
       "\n",
       "    .dataframe tbody tr th {\n",
       "        vertical-align: top;\n",
       "    }\n",
       "\n",
       "    .dataframe thead th {\n",
       "        text-align: right;\n",
       "    }\n",
       "</style>\n",
       "<table border=\"1\" class=\"dataframe\">\n",
       "  <thead>\n",
       "    <tr style=\"text-align: right;\">\n",
       "      <th></th>\n",
       "      <th>FileIndex</th>\n",
       "      <th>CrackIndex</th>\n",
       "      <th>CrackArea</th>\n",
       "      <th>CrackLength</th>\n",
       "      <th>AreaLengthRatio</th>\n",
       "    </tr>\n",
       "  </thead>\n",
       "  <tbody>\n",
       "    <tr>\n",
       "      <th>count</th>\n",
       "      <td>24620.000000</td>\n",
       "      <td>24620.000000</td>\n",
       "      <td>24620.000000</td>\n",
       "      <td>24620.000000</td>\n",
       "      <td>24620.000000</td>\n",
       "    </tr>\n",
       "    <tr>\n",
       "      <th>mean</th>\n",
       "      <td>207.395329</td>\n",
       "      <td>49.525061</td>\n",
       "      <td>61.962165</td>\n",
       "      <td>14.509225</td>\n",
       "      <td>0.259192</td>\n",
       "    </tr>\n",
       "    <tr>\n",
       "      <th>std</th>\n",
       "      <td>111.722673</td>\n",
       "      <td>44.314953</td>\n",
       "      <td>417.687476</td>\n",
       "      <td>62.292078</td>\n",
       "      <td>0.164991</td>\n",
       "    </tr>\n",
       "    <tr>\n",
       "      <th>min</th>\n",
       "      <td>0.000000</td>\n",
       "      <td>0.000000</td>\n",
       "      <td>1.000000</td>\n",
       "      <td>1.414210</td>\n",
       "      <td>0.002730</td>\n",
       "    </tr>\n",
       "    <tr>\n",
       "      <th>25%</th>\n",
       "      <td>117.000000</td>\n",
       "      <td>16.000000</td>\n",
       "      <td>1.500000</td>\n",
       "      <td>2.236070</td>\n",
       "      <td>0.109590</td>\n",
       "    </tr>\n",
       "    <tr>\n",
       "      <th>50%</th>\n",
       "      <td>208.000000</td>\n",
       "      <td>36.000000</td>\n",
       "      <td>4.000000</td>\n",
       "      <td>5.099020</td>\n",
       "      <td>0.223080</td>\n",
       "    </tr>\n",
       "    <tr>\n",
       "      <th>75%</th>\n",
       "      <td>304.000000</td>\n",
       "      <td>72.000000</td>\n",
       "      <td>14.000000</td>\n",
       "      <td>9.848860</td>\n",
       "      <td>0.400000</td>\n",
       "    </tr>\n",
       "    <tr>\n",
       "      <th>max</th>\n",
       "      <td>401.000000</td>\n",
       "      <td>252.000000</td>\n",
       "      <td>15476.500000</td>\n",
       "      <td>2348.002130</td>\n",
       "      <td>0.500000</td>\n",
       "    </tr>\n",
       "  </tbody>\n",
       "</table>\n",
       "</div>"
      ],
      "text/plain": [
       "          FileIndex    CrackIndex     CrackArea   CrackLength  AreaLengthRatio\n",
       "count  24620.000000  24620.000000  24620.000000  24620.000000     24620.000000\n",
       "mean     207.395329     49.525061     61.962165     14.509225         0.259192\n",
       "std      111.722673     44.314953    417.687476     62.292078         0.164991\n",
       "min        0.000000      0.000000      1.000000      1.414210         0.002730\n",
       "25%      117.000000     16.000000      1.500000      2.236070         0.109590\n",
       "50%      208.000000     36.000000      4.000000      5.099020         0.223080\n",
       "75%      304.000000     72.000000     14.000000      9.848860         0.400000\n",
       "max      401.000000    252.000000  15476.500000   2348.002130         0.500000"
      ]
     },
     "execution_count": 4,
     "metadata": {},
     "output_type": "execute_result"
    }
   ],
   "source": [
    "df.describe()"
   ]
  },
  {
   "cell_type": "code",
   "execution_count": 5,
   "metadata": {},
   "outputs": [
    {
     "data": {
      "image/png": "[encoded data removed]",
      "text/plain": [
       "<Figure size 432x288 with 1 Axes>"
      ]
     },
     "metadata": {
      "needs_background": "light"
     },
     "output_type": "display_data"
    }
   ],
   "source": [
    "hist(df.CrackArea, bins=100)\n",
    "show()"
   ]
  },
  {
   "cell_type": "code",
   "execution_count": 6,
   "metadata": {},
   "outputs": [
    {
     "data": {
      "image/png": "[encoded data removed]",
      "text/plain": [
       "<Figure size 432x288 with 1 Axes>"
      ]
     },
     "metadata": {
      "needs_background": "light"
     },
     "output_type": "display_data"
    }
   ],
   "source": [
    "hist(df.AreaLengthRatio, bins=100)\n",
    "show()"
   ]
  },
  {
   "cell_type": "code",
   "execution_count": 18,
   "metadata": {},
   "outputs": [
    {
     "data": {
      "text/plain": [
       "1.3484971567831032"
      ]
     },
     "execution_count": 18,
     "metadata": {},
     "output_type": "execute_result"
    }
   ],
   "source": [
    "len(df[df.CrackArea > 1000]) / len(df) * 100"
   ]
  },
  {
   "cell_type": "code",
   "execution_count": 19,
   "metadata": {},
   "outputs": [
    {
     "data": {
      "image/png": "[encoded data removed]",
      "text/plain": [
       "<Figure size 432x288 with 1 Axes>"
      ]
     },
     "metadata": {
      "needs_background": "light"
     },
     "output_type": "display_data"
    }
   ],
   "source": [
    "hist(df[df.CrackArea > 1000].AreaLengthRatio, bins=100)\n",
    "show()"
   ]
  },
  {
   "cell_type": "code",
   "execution_count": 20,
   "metadata": {},
   "outputs": [
    {
     "data": {
      "text/html": [
       "<div>\n",
       "<style scoped>\n",
       "    .dataframe tbody tr th:only-of-type {\n",
       "        vertical-align: middle;\n",
       "    }\n",
       "\n",
       "    .dataframe tbody tr th {\n",
       "        vertical-align: top;\n",
       "    }\n",
       "\n",
       "    .dataframe thead th {\n",
       "        text-align: right;\n",
       "    }\n",
       "</style>\n",
       "<table border=\"1\" class=\"dataframe\">\n",
       "  <thead>\n",
       "    <tr style=\"text-align: right;\">\n",
       "      <th></th>\n",
       "      <th>FileIndex</th>\n",
       "      <th>CrackIndex</th>\n",
       "      <th>CrackArea</th>\n",
       "      <th>CrackLength</th>\n",
       "      <th>AreaLengthRatio</th>\n",
       "    </tr>\n",
       "  </thead>\n",
       "  <tbody>\n",
       "    <tr>\n",
       "      <th>count</th>\n",
       "      <td>332.000000</td>\n",
       "      <td>332.000000</td>\n",
       "      <td>332.000000</td>\n",
       "      <td>332.000000</td>\n",
       "      <td>332.000000</td>\n",
       "    </tr>\n",
       "    <tr>\n",
       "      <th>mean</th>\n",
       "      <td>202.271084</td>\n",
       "      <td>56.921687</td>\n",
       "      <td>2701.963855</td>\n",
       "      <td>397.672622</td>\n",
       "      <td>0.026516</td>\n",
       "    </tr>\n",
       "    <tr>\n",
       "      <th>std</th>\n",
       "      <td>107.354843</td>\n",
       "      <td>44.976327</td>\n",
       "      <td>2312.270357</td>\n",
       "      <td>349.058489</td>\n",
       "      <td>0.015936</td>\n",
       "    </tr>\n",
       "    <tr>\n",
       "      <th>min</th>\n",
       "      <td>0.000000</td>\n",
       "      <td>0.000000</td>\n",
       "      <td>1001.000000</td>\n",
       "      <td>103.092190</td>\n",
       "      <td>0.002810</td>\n",
       "    </tr>\n",
       "    <tr>\n",
       "      <th>25%</th>\n",
       "      <td>133.000000</td>\n",
       "      <td>22.000000</td>\n",
       "      <td>1412.375000</td>\n",
       "      <td>196.786828</td>\n",
       "      <td>0.014430</td>\n",
       "    </tr>\n",
       "    <tr>\n",
       "      <th>50%</th>\n",
       "      <td>199.000000</td>\n",
       "      <td>46.000000</td>\n",
       "      <td>1904.250000</td>\n",
       "      <td>270.581630</td>\n",
       "      <td>0.025090</td>\n",
       "    </tr>\n",
       "    <tr>\n",
       "      <th>75%</th>\n",
       "      <td>316.000000</td>\n",
       "      <td>82.000000</td>\n",
       "      <td>3146.125000</td>\n",
       "      <td>458.282660</td>\n",
       "      <td>0.034985</td>\n",
       "    </tr>\n",
       "    <tr>\n",
       "      <th>max</th>\n",
       "      <td>396.000000</td>\n",
       "      <td>204.000000</td>\n",
       "      <td>15476.500000</td>\n",
       "      <td>2348.002130</td>\n",
       "      <td>0.122840</td>\n",
       "    </tr>\n",
       "  </tbody>\n",
       "</table>\n",
       "</div>"
      ],
      "text/plain": [
       "        FileIndex  CrackIndex     CrackArea  CrackLength  AreaLengthRatio\n",
       "count  332.000000  332.000000    332.000000   332.000000       332.000000\n",
       "mean   202.271084   56.921687   2701.963855   397.672622         0.026516\n",
       "std    107.354843   44.976327   2312.270357   349.058489         0.015936\n",
       "min      0.000000    0.000000   1001.000000   103.092190         0.002810\n",
       "25%    133.000000   22.000000   1412.375000   196.786828         0.014430\n",
       "50%    199.000000   46.000000   1904.250000   270.581630         0.025090\n",
       "75%    316.000000   82.000000   3146.125000   458.282660         0.034985\n",
       "max    396.000000  204.000000  15476.500000  2348.002130         0.122840"
      ]
     },
     "execution_count": 20,
     "metadata": {},
     "output_type": "execute_result"
    }
   ],
   "source": [
    "df[df.CrackArea > 1000].describe()"
   ]
  },
  {
   "cell_type": "code",
   "execution_count": 11,
   "metadata": {},
   "outputs": [],
   "source": []
  },
  {
   "cell_type": "code",
   "execution_count": 12,
   "metadata": {},
   "outputs": [],
   "source": [
    "import cv2"
   ]
  },
  {
   "cell_type": "code",
   "execution_count": 13,
   "metadata": {},
   "outputs": [
    {
     "data": {
      "text/plain": [
       "<matplotlib.image.AxesImage at 0x1faf9c0c8b0>"
      ]
     },
     "execution_count": 13,
     "metadata": {},
     "output_type": "execute_result"
    },
    {
     "data": {
      "image/png": "[encoded data removed]",
      "text/plain": [
       "<Figure size 432x288 with 1 Axes>"
      ]
     },
     "metadata": {
      "needs_background": "light"
     },
     "output_type": "display_data"
    }
   ],
   "source": [
    "img = cv2.imread(r\"C:\\home\\repo\\CrackShapeAnalysis\\out\\build\\x64-Release\\CollectCrackStat\\out\\20201016144317_flexo3-01_2_001071_-000588_-179393_crack_right.png\")\n",
    "imshow(img)"
   ]
  },
  {
   "cell_type": "code",
   "execution_count": null,
   "metadata": {},
   "outputs": [],
   "source": []
  }
 ],
 "metadata": {
  "kernelspec": {
   "display_name": "Python 3",
   "language": "python",
   "name": "python3"
  },
  "language_info": {
   "codemirror_mode": {
    "name": "ipython",
    "version": 3
   },
   "file_extension": ".py",
   "mimetype": "text/x-python",
   "name": "python",
   "nbconvert_exporter": "python",
   "pygments_lexer": "ipython3",
   "version": "3.8.3"
  }
 },
 "nbformat": 4,
 "nbformat_minor": 4
}
